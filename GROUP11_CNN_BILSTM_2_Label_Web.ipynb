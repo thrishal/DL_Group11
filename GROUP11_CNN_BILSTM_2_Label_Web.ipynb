{
  "nbformat": 4,
  "nbformat_minor": 0,
  "metadata": {
    "colab": {
      "provenance": [],
      "gpuType": "T4"
    },
    "kernelspec": {
      "name": "python3",
      "display_name": "Python 3"
    },
    "language_info": {
      "name": "python"
    },
    "accelerator": "GPU"
  },
  "cells": [
    {
      "cell_type": "code",
      "execution_count": 1,
      "metadata": {
        "colab": {
          "base_uri": "https://localhost:8080/",
          "height": 263
        },
        "id": "iIKqaEPhYoms",
        "outputId": "53f02505-1aea-4b32-85b0-c4de40602d74"
      },
      "outputs": [
        {
          "output_type": "stream",
          "name": "stdout",
          "text": [
            "Requirement already satisfied: anvil-uplink in /usr/local/lib/python3.10/dist-packages (0.4.2)\n",
            "Collecting argparse (from anvil-uplink)\n",
            "  Using cached argparse-1.4.0-py2.py3-none-any.whl (23 kB)\n",
            "Requirement already satisfied: future in /usr/local/lib/python3.10/dist-packages (from anvil-uplink) (0.18.3)\n",
            "Requirement already satisfied: six in /usr/local/lib/python3.10/dist-packages (from anvil-uplink) (1.16.0)\n",
            "Requirement already satisfied: ws4py in /usr/local/lib/python3.10/dist-packages (from anvil-uplink) (0.5.1)\n",
            "Installing collected packages: argparse\n",
            "Successfully installed argparse-1.4.0\n"
          ]
        },
        {
          "output_type": "display_data",
          "data": {
            "application/vnd.colab-display-data+json": {
              "pip_warning": {
                "packages": [
                  "argparse"
                ]
              }
            }
          },
          "metadata": {}
        }
      ],
      "source": [
        "!pip install anvil-uplink"
      ]
    },
    {
      "cell_type": "code",
      "source": [
        "import anvil.server\n",
        "\n",
        "anvil.server.connect(\"server_UVY6LDQRFPGICXIS4USQHERS-3ENXAGPOUODFMGJF\")"
      ],
      "metadata": {
        "colab": {
          "base_uri": "https://localhost:8080/"
        },
        "id": "mT1IBMrvY4_x",
        "outputId": "b34916a6-2aaa-4d4a-d4a4-daca86e9abdf"
      },
      "execution_count": 2,
      "outputs": [
        {
          "output_type": "stream",
          "name": "stdout",
          "text": [
            "Connecting to wss://anvil.works/uplink\n",
            "Anvil websocket open\n",
            "Connected to \"Default Environment\" as SERVER\n"
          ]
        }
      ]
    },
    {
      "cell_type": "code",
      "execution_count": 3,
      "metadata": {
        "id": "FAbOxYxsQ8zv"
      },
      "outputs": [],
      "source": [
        "import torch\n",
        "import torch.nn as nn\n",
        "import torch.nn.functional as F"
      ]
    },
    {
      "cell_type": "code",
      "source": [
        "import torch\n",
        "import torch.nn as nn\n",
        "import torch.optim as optim"
      ],
      "metadata": {
        "id": "j0aP2xkVZSRs"
      },
      "execution_count": 4,
      "outputs": []
    },
    {
      "cell_type": "code",
      "source": [
        "import torch\n",
        "\n",
        "device = torch.device(\"cuda\" if torch.cuda.is_available() else \"cpu\")"
      ],
      "metadata": {
        "id": "Sn17X65IRq15"
      },
      "execution_count": 5,
      "outputs": []
    },
    {
      "cell_type": "code",
      "source": [
        "import pandas as pd\n",
        "import re\n",
        "import nltk\n",
        "from collections import Counter\n",
        "import torch\n",
        "from torch.nn.utils.rnn import pad_sequence\n",
        "from torch.utils.data import DataLoader, TensorDataset\n",
        "from nltk.tokenize import word_tokenize\n",
        "\n",
        "\n",
        "nltk.download('punkt')\n",
        "\n",
        "# Loading data from train, test and valid datasets\n",
        "train_df = pd.read_csv('/content/train.tsv', delimiter='\\t', header=None)\n",
        "test_df = pd.read_csv('/content/test.tsv', delimiter='\\t', header=None)\n",
        "val_df = pd.read_csv('/content/valid.tsv', delimiter='\\t', header=None)"
      ],
      "metadata": {
        "colab": {
          "base_uri": "https://localhost:8080/"
        },
        "id": "ZhlsWBaGRq4I",
        "outputId": "bd754ef4-618b-4e00-f491-8ca25b4913ae"
      },
      "execution_count": 6,
      "outputs": [
        {
          "output_type": "stream",
          "name": "stderr",
          "text": [
            "[nltk_data] Downloading package punkt to /root/nltk_data...\n",
            "[nltk_data]   Package punkt is already up-to-date!\n"
          ]
        }
      ]
    },
    {
      "cell_type": "code",
      "source": [
        "label_mapping = {'false': 0, 'half-true': 1, 'mostly-true': 1, 'true': 1, 'barely-true': 0, 'pants-fire': 0}"
      ],
      "metadata": {
        "id": "ujIRM1tBRq6g"
      },
      "execution_count": 7,
      "outputs": []
    },
    {
      "cell_type": "markdown",
      "source": [
        "TEXT+ALL META DATA"
      ],
      "metadata": {
        "id": "61qB7NKCi7iv"
      }
    },
    {
      "cell_type": "code",
      "source": [
        "selected_columns = [2,3,4,5,6,7,8,9,10,11,12,13]"
      ],
      "metadata": {
        "id": "efQbSnFXi3NE"
      },
      "execution_count": 8,
      "outputs": []
    },
    {
      "cell_type": "code",
      "source": [
        "\n",
        "\n",
        "\n",
        "def preprocess_text(text):\n",
        "    text = re.sub(r'[^\\w\\s]', ' ', str(text))\n",
        "    text = re.sub(r'\\s+[a-zA-Z]\\s+', ' ', text)\n",
        "    text = re.sub(r'\\s+', ' ', text).strip()\n",
        "    return text.lower()\n",
        "\n",
        "# tokenization func, from nltk libarray\n",
        "def text_tokenization(text):\n",
        "    return word_tokenize(text)\n",
        "\n",
        "\n",
        "def merge_and_clean(dataframe, columns):\n",
        "    merged_text = dataframe[columns].astype(str).agg(' '.join, axis=1)\n",
        "    return merged_text.apply(preprocess_text)\n",
        "\n",
        "\n",
        "selected_columns = [2,3,4,5,6,7,8,9,10,11,12,13]\n",
        "\n",
        "\n",
        "\n",
        "train_texts = merge_and_clean(train_df, selected_columns).apply(text_tokenization)\n",
        "test_texts = merge_and_clean(test_df, selected_columns).apply(text_tokenization)\n",
        "val_texts = merge_and_clean(val_df, selected_columns).apply(text_tokenization)\n",
        "\n",
        "\n",
        "total_tokens = [token for text in train_texts for token in text] + \\\n",
        "               [token for text in test_texts for token in text] + \\\n",
        "               [token for text in val_texts for token in text]\n",
        "word_counts = Counter(total_tokens)\n",
        "vocab_length = len(word_counts)\n",
        "\n",
        "# Mapping unique words to tokens\n",
        "word_indices = {word: idx + 1 for idx, word in enumerate(word_counts)}\n",
        "\n",
        "\n",
        "def convert_tokens_to_indices(token_lists):\n",
        "    return [[word_indices.get(token, 0) for token in tokens] for tokens in token_lists],True\n",
        "\n",
        "train_idx,status1 = convert_tokens_to_indices(train_texts)\n",
        "if status1:\n",
        "    word_s1=True\n",
        "test_idx,status2 = convert_tokens_to_indices(test_texts)\n",
        "if status2:\n",
        "    word_s2=True\n",
        "val_idx,status3 = convert_tokens_to_indices(val_texts)\n",
        "if status3:\n",
        "    word_s3=True\n",
        "\n",
        "# padding\n",
        "def sequence_padding(sequences, max_length):\n",
        "    sequence_padded = pad_sequence([torch.tensor(sequence) for sequence in sequences],\n",
        "                                   batch_first=True, padding_value=0)\n",
        "    return True,sequence_padded[:, :max_length]\n",
        "def find_max_sequence_length(sequences):\n",
        "    try:\n",
        "        max_length = max(len(sequence) for sequence in sequences)\n",
        "        return True, max_length\n",
        "    except Exception as e:\n",
        "        print(f\"Error in find_max_sequence_length: {e}\")\n",
        "        return False, 0\n",
        "\n",
        "max_length = max(len(s) for seq in [train_idx, test_idx, val_idx] for s in seq)\n",
        "\n",
        "\n",
        "train_cond,X_train_padded = sequence_padding(train_idx, max_length)\n",
        "if train_cond!=True:\n",
        "    print(\"Exception\")\n",
        "test_cond,X_test_padded = sequence_padding(test_idx, max_length)\n",
        "if test_cond!=True:\n",
        "    print(\"Exception\")\n",
        "val_cond,X_val_padded = sequence_padding(val_idx, max_length)\n",
        "if val_cond!=True:\n",
        "    print(\"Exception\")\n",
        "\n",
        "# label to tensors\n",
        "\n",
        "def map_labels_to_tensors(dataframe, column_index, label_mapping):\n",
        "\n",
        "    try:\n",
        "        mapped_labels = dataframe[column_index].map(label_mapping)\n",
        "        return torch.tensor(mapped_labels.values, dtype=torch.float)\n",
        "    except Exception as e:\n",
        "        print(f\"Error during label mapping and tensor conversion: {e}\")\n",
        "        return None\n",
        "\n",
        "\n",
        "y_train = map_labels_to_tensors(train_df, 1, label_mapping)\n",
        "y_test = map_labels_to_tensors(test_df, 1, label_mapping)\n",
        "y_val = map_labels_to_tensors(val_df, 1, label_mapping)\n",
        "\n",
        "\n",
        "if y_train is not None and y_test is not None and y_val is not None:\n",
        "    print(\"Labels successfully mapped to tensors.\")\n",
        "else:\n",
        "    print(\"An error occurred during label mapping.\")\n",
        "\n",
        "\n",
        "assert X_train_padded.size(0) == y_train.size(0), \"Inconsistent data lengths for training set\"\n",
        "\n",
        "\n",
        "batch_size = 32\n",
        "\n",
        "\n",
        "train_dataset = TensorDataset(X_train_padded, y_train)\n",
        "train_loader = DataLoader(train_dataset, batch_size=batch_size, shuffle=True)\n",
        "\n",
        "val_dataset = TensorDataset(X_val_padded, y_val)\n",
        "val_loader = DataLoader(val_dataset, batch_size=batch_size)\n",
        "\n",
        "test_dataset = TensorDataset(X_test_padded, y_test)\n",
        "test_loader = DataLoader(test_dataset, batch_size=batch_size)\n"
      ],
      "metadata": {
        "colab": {
          "base_uri": "https://localhost:8080/"
        },
        "id": "1uiZtZXYRq-Q",
        "outputId": "3aa225e5-c1ba-468d-8991-f6fd95128c85"
      },
      "execution_count": 9,
      "outputs": [
        {
          "output_type": "stream",
          "name": "stdout",
          "text": [
            "Labels successfully mapped to tensors.\n"
          ]
        }
      ]
    },
    {
      "cell_type": "code",
      "source": [
        "word_to_index=word_indices"
      ],
      "metadata": {
        "id": "85Y0KnL2V2Ar"
      },
      "execution_count": 10,
      "outputs": []
    },
    {
      "cell_type": "code",
      "source": [
        "def binary_accuracy(preds, y):\n",
        "    rounded_preds = torch.round(torch.sigmoid(preds))\n",
        "    correct = (rounded_preds == y).float()\n",
        "    acc = correct.sum() / len(correct)\n",
        "    return acc\n",
        "\n",
        "# Train Func\n",
        "def train(model, iterator, optimizer, criterion):\n",
        "    epoch_loss = 0\n",
        "    epoch_acc = 0\n",
        "\n",
        "    model.train()\n",
        "\n",
        "    for batch in iterator:\n",
        "        inputs, labels = batch\n",
        "\n",
        "\n",
        "        inputs, labels = inputs.to(device), labels.to(device)\n",
        "\n",
        "        optimizer.zero_grad()\n",
        "        predictions = model(inputs).squeeze(1)\n",
        "        loss = criterion(predictions, labels)\n",
        "        acc = binary_accuracy(predictions, labels)\n",
        "\n",
        "        loss.backward()\n",
        "        optimizer.step()\n",
        "\n",
        "        epoch_loss += loss.item()\n",
        "        epoch_acc += acc.item()\n",
        "\n",
        "    return epoch_loss / len(iterator), epoch_acc / len(iterator)\n",
        "def evaluate(model, iterator, criterion):\n",
        "    epoch_loss = 0\n",
        "    epoch_acc = 0\n",
        "    model.eval()\n",
        "    with torch.no_grad():\n",
        "        for batch in iterator:\n",
        "            inputs, labels = batch\n",
        "            inputs, labels = inputs.to(device), labels.to(device)\n",
        "            predictions = model(inputs).squeeze(1)\n",
        "            loss = criterion(predictions, labels)\n",
        "            acc = binary_accuracy(predictions, labels)\n",
        "            epoch_loss += loss.item()\n",
        "            epoch_acc += acc.item()\n",
        "    return epoch_loss / len(iterator), epoch_acc / len(iterator)"
      ],
      "metadata": {
        "id": "B4BCQ4_bRq_S"
      },
      "execution_count": 11,
      "outputs": []
    },
    {
      "cell_type": "code",
      "source": [],
      "metadata": {
        "id": "qNUJRkZqSGX3"
      },
      "execution_count": 11,
      "outputs": []
    },
    {
      "cell_type": "code",
      "source": [
        "class CNNBiLSTMModel(nn.Module):\n",
        "    def __init__(self, vocab_size, embedding_dim, n_filters, filter_sizes, lstm_hidden_dim, output_dim, dropout):\n",
        "        super().__init__()\n",
        "\n",
        "        self.embedding = nn.Embedding(vocab_size, embedding_dim)\n",
        "\n",
        "        self.convs = nn.ModuleList([nn.Conv2d(in_channels=1, out_channels=n_filters, kernel_size=(fs, embedding_dim)) for fs in filter_sizes])\n",
        "\n",
        "        self.lstm = nn.LSTM(n_filters * len(filter_sizes), lstm_hidden_dim, batch_first=True, bidirectional=True)\n",
        "\n",
        "        self.fc = nn.Linear(2 * lstm_hidden_dim, output_dim)\n",
        "\n",
        "        self.dropout = nn.Dropout(dropout)\n",
        "\n",
        "    def forward(self, text):\n",
        "        embedded = self.embedding(text).unsqueeze(1)\n",
        "\n",
        "        conved = [F.relu(conv(embedded)).squeeze(3) for conv in self.convs]\n",
        "        pooled = [F.max_pool1d(conv, conv.shape[2]).squeeze(2) for conv in conved]\n",
        "        cat = self.dropout(torch.cat(pooled, dim=1))\n",
        "\n",
        "        lstm_output, (hidden, cell) = self.lstm(cat.unsqueeze(1))\n",
        "        hidden = self.dropout(torch.cat((hidden[-2,:,:], hidden[-1,:,:]), dim=1))\n",
        "\n",
        "        return self.fc(hidden)\n"
      ],
      "metadata": {
        "id": "v2xNz2B7SGaj"
      },
      "execution_count": 12,
      "outputs": []
    },
    {
      "cell_type": "code",
      "source": [],
      "metadata": {
        "id": "lRmQQBM8khhs"
      },
      "execution_count": 12,
      "outputs": []
    },
    {
      "cell_type": "code",
      "source": [
        "# hyperparameters\n",
        "\n",
        "vocab_size = len(word_to_index) + 1\n",
        "embedding_dim = 100\n",
        "n_filters = 100\n",
        "filter_sizes = [2, 3, 4]\n",
        "lstm_hidden_dim = 256\n",
        "output_dim = 1\n",
        "dropout = 0.3\n",
        "\n",
        "\n",
        "model = CNNBiLSTMModel(vocab_size, embedding_dim, n_filters, filter_sizes, lstm_hidden_dim, output_dim, dropout)\n",
        "model = model.to(device)\n",
        "optimizer = optim.Adam(model.parameters(),lr=0.01)\n",
        "criterion = nn.BCEWithLogitsLoss()"
      ],
      "metadata": {
        "id": "uFeBJJtmlNgh"
      },
      "execution_count": 13,
      "outputs": []
    },
    {
      "cell_type": "code",
      "source": [
        "\n",
        "train_loss_1, train_acc_1 = [], []\n",
        "val_loss_1, val_acc_1 = [], []\n",
        "\n",
        "\n",
        "num_epochs = 5\n",
        "for epoch in range(num_epochs):\n",
        "    train_loss, train_acc = train(model, train_loader, optimizer, criterion)\n",
        "    val_loss, val_acc = evaluate(model, val_loader, criterion)\n",
        "    train_loss_1.append(train_loss)\n",
        "    val_loss_1.append(val_loss)\n",
        "    train_acc_1.append(train_acc)\n",
        "    val_acc_1.append(val_acc)\n",
        "    print(f'Epoch: {epoch+1}, Train Loss: {train_loss:.3f}, Train Acc: {train_acc:.2f}, Val Loss: {val_loss:.3f}, Val Acc: {val_acc:.2f}')\n",
        "\n",
        "    #print(f'Epoch: {epoch+1:02}, Train Loss: {train_loss:.3f}, Train Acc: {train_acc*100:.2f}%')\n"
      ],
      "metadata": {
        "colab": {
          "base_uri": "https://localhost:8080/"
        },
        "id": "JV3WRIDOSGdn",
        "outputId": "feaf73ff-e091-4759-a358-79a42cf68beb"
      },
      "execution_count": 14,
      "outputs": [
        {
          "output_type": "stream",
          "name": "stdout",
          "text": [
            "Epoch: 1, Train Loss: 0.713, Train Acc: 0.53, Val Loss: 0.700, Val Acc: 0.48\n",
            "Epoch: 2, Train Loss: 0.711, Train Acc: 0.53, Val Loss: 0.706, Val Acc: 0.52\n",
            "Epoch: 3, Train Loss: 0.707, Train Acc: 0.53, Val Loss: 0.759, Val Acc: 0.52\n",
            "Epoch: 4, Train Loss: 0.707, Train Acc: 0.53, Val Loss: 0.735, Val Acc: 0.52\n",
            "Epoch: 5, Train Loss: 0.703, Train Acc: 0.53, Val Loss: 0.705, Val Acc: 0.52\n"
          ]
        }
      ]
    },
    {
      "cell_type": "code",
      "source": [
        "test_loss, test_acc = evaluate(model, test_loader, criterion)\n",
        "print(f'Test Loss: {test_loss:.3f}, Test Acc: {test_acc*100:.2f}%')"
      ],
      "metadata": {
        "colab": {
          "base_uri": "https://localhost:8080/"
        },
        "id": "6gG2s6D9SGfX",
        "outputId": "3f732189-9426-4cc4-f921-731c29fea439"
      },
      "execution_count": 15,
      "outputs": [
        {
          "output_type": "stream",
          "name": "stdout",
          "text": [
            "Test Loss: 0.688, Test Acc: 56.16%\n"
          ]
        }
      ]
    },
    {
      "cell_type": "code",
      "source": [],
      "metadata": {
        "id": "688Ccjwtcx-R"
      },
      "execution_count": 15,
      "outputs": []
    },
    {
      "cell_type": "code",
      "source": [],
      "metadata": {
        "id": "Sfpj66vjcyBX"
      },
      "execution_count": 15,
      "outputs": []
    },
    {
      "cell_type": "code",
      "source": [],
      "metadata": {
        "id": "xnjPWvJocyEF"
      },
      "execution_count": 15,
      "outputs": []
    },
    {
      "cell_type": "code",
      "source": [],
      "metadata": {
        "id": "S_SBKdRPc5tu"
      },
      "execution_count": 15,
      "outputs": []
    },
    {
      "cell_type": "code",
      "source": [
        "dropout = 0.5\n",
        "train_loss_2, train_acc_2 = [], []\n",
        "val_loss_2, val_acc_2 = [], []\n",
        "model = CNNBiLSTMModel(vocab_size, embedding_dim, n_filters, filter_sizes, lstm_hidden_dim, output_dim, dropout)\n",
        "model=model.to(device)\n",
        "# Loss ,Optimizer we used\n",
        "criterion = nn.BCEWithLogitsLoss()\n",
        "optimizer = optim.Adam(model.parameters(),lr=0.001)\n"
      ],
      "metadata": {
        "id": "v7p-Co4Gc3wQ"
      },
      "execution_count": 16,
      "outputs": []
    },
    {
      "cell_type": "code",
      "source": [],
      "metadata": {
        "id": "73Bcoa_uc3zm"
      },
      "execution_count": 16,
      "outputs": []
    },
    {
      "cell_type": "code",
      "source": [
        "# dropout = 0.5\n",
        "# train_loss_2, train_acc_2 = [], []\n",
        "# val_loss_2, val_acc_2 = [], []\n",
        "# model = CNNBiLSTMModel(vocab_size, embedding_dim, n_filters, filter_sizes, lstm_hidden_dim, output_dim, dropout)\n",
        "# model=model.to(device)\n",
        "# # Loss and Optimizer\n",
        "# criterion = nn.BCEWithLogitsLoss()\n",
        "# optimizer = optim.Adam(model.parameters())\n"
      ],
      "metadata": {
        "id": "exnZ_1DZSGhf"
      },
      "execution_count": 17,
      "outputs": []
    },
    {
      "cell_type": "code",
      "source": [
        "\n",
        "\n",
        "\n",
        "\n",
        "num_epochs = 5\n",
        "for epoch in range(num_epochs):\n",
        "    train_loss, train_acc = train(model, train_loader, optimizer, criterion)\n",
        "    val_loss, val_acc = evaluate(model, val_loader, criterion)\n",
        "    train_loss_2.append(train_loss)\n",
        "    val_loss_2.append(val_loss)\n",
        "    train_acc_2.append(train_acc)\n",
        "    val_acc_2.append(val_acc)\n",
        "    print(f'Epoch: {epoch+1}, Train Loss: {train_loss:.3f}, Train Acc: {train_acc:.2f}, Val Loss: {val_loss:.3f}, Val Acc: {val_acc:.2f}')\n",
        "\n",
        "    #print(f'Epoch: {epoch+1:02}, Train Loss: {train_loss:.3f}, Train Acc: {train_acc*100:.2f}%')\n"
      ],
      "metadata": {
        "colab": {
          "base_uri": "https://localhost:8080/"
        },
        "id": "KQ0eWzYcSGj2",
        "outputId": "009e433b-044a-4021-fbfd-b048605d72fa"
      },
      "execution_count": 18,
      "outputs": [
        {
          "output_type": "stream",
          "name": "stdout",
          "text": [
            "Epoch: 1, Train Loss: 0.677, Train Acc: 0.58, Val Loss: 0.668, Val Acc: 0.58\n",
            "Epoch: 2, Train Loss: 0.640, Train Acc: 0.63, Val Loss: 0.649, Val Acc: 0.61\n",
            "Epoch: 3, Train Loss: 0.604, Train Acc: 0.67, Val Loss: 0.675, Val Acc: 0.59\n",
            "Epoch: 4, Train Loss: 0.575, Train Acc: 0.69, Val Loss: 0.666, Val Acc: 0.59\n",
            "Epoch: 5, Train Loss: 0.543, Train Acc: 0.72, Val Loss: 0.671, Val Acc: 0.58\n"
          ]
        }
      ]
    },
    {
      "cell_type": "code",
      "source": [
        "test_loss, test_acc = evaluate(model, test_loader, criterion)\n",
        "print(f'Test Loss: {test_loss:.3f}, Test Acc: {test_acc*100:.2f}%')"
      ],
      "metadata": {
        "colab": {
          "base_uri": "https://localhost:8080/"
        },
        "id": "1UQVodYqSGl0",
        "outputId": "ad144b86-c3db-47d7-ff26-7684b92a6ab5"
      },
      "execution_count": 19,
      "outputs": [
        {
          "output_type": "stream",
          "name": "stdout",
          "text": [
            "Test Loss: 0.675, Test Acc: 59.65%\n"
          ]
        }
      ]
    },
    {
      "cell_type": "markdown",
      "source": [
        "CHECKING THE PERFORMANCE OF SET 1(BEFORE TUNING) & SET(AFTER TUNING)"
      ],
      "metadata": {
        "id": "omRgMOF_i_vP"
      }
    },
    {
      "cell_type": "code",
      "source": [
        "import matplotlib.pyplot as plt\n",
        "\n",
        "# Data for Set 1\n",
        "epochs_1 = [1, 2, 3, 4, 5]\n",
        "\n",
        "\n",
        "# Data for Set 2 (After Tuning)\n",
        "epochs_2 = [1, 2, 3, 4, 5]\n",
        "\n",
        "\n",
        "plt.figure(figsize=(10, 5))\n",
        "\n",
        "# Loss plot\n",
        "plt.subplot(1, 2, 1)\n",
        "plt.plot(epochs_1, train_loss_1, label='Train Loss (Set 1)', linestyle='dashed')\n",
        "plt.plot(epochs_1, val_loss_1, label='Validation Loss (Set 1)', linestyle='dashed')\n",
        "plt.plot(epochs_2, train_loss_2, label='Train Loss (Set 2)', linestyle='solid')\n",
        "plt.plot(epochs_2, val_loss_2, label='Validation Loss (Set 2)', linestyle='solid')\n",
        "plt.title('Training and Validation Loss')\n",
        "plt.xlabel('Epochs')\n",
        "plt.ylabel('Loss')\n",
        "plt.legend()\n",
        "\n",
        "# Accuracy plot\n",
        "plt.subplot(1, 2, 2)\n",
        "plt.plot(epochs_1, train_acc_1, label='Train Acc (Set 1)', linestyle='dashed')\n",
        "plt.plot(epochs_1, val_acc_1, label='Validation Acc (Set 1)', linestyle='dashed')\n",
        "plt.plot(epochs_2, train_acc_2, label='Train Acc (Set 2)', linestyle='solid')\n",
        "plt.plot(epochs_2, val_acc_2, label='Validation Acc (Set 2)', linestyle='solid')\n",
        "plt.title('Training and Validation Accuracy')\n",
        "plt.xlabel('Epochs')\n",
        "plt.ylabel('Accuracy')\n",
        "plt.legend()\n",
        "\n",
        "\n",
        "plt.tight_layout()\n",
        "plt.show()\n"
      ],
      "metadata": {
        "colab": {
          "base_uri": "https://localhost:8080/",
          "height": 507
        },
        "id": "cnGtAf1mSGob",
        "outputId": "2a5b89f4-0964-4c6a-9dd6-d9d482c54010"
      },
      "execution_count": 20,
      "outputs": [
        {
          "output_type": "display_data",
          "data": {
            "text/plain": [
              "<Figure size 1000x500 with 2 Axes>"
            ],
            "image/png": "[encoded data removed]"
          },
          "metadata": {}
        }
      ]
    },
    {
      "cell_type": "code",
      "source": [],
      "metadata": {
        "id": "rqJJfNOdjJ92"
      },
      "execution_count": 20,
      "outputs": []
    },
    {
      "cell_type": "markdown",
      "source": [
        "TEXT + OUR META DATA"
      ],
      "metadata": {
        "id": "5rxqM-SEjNXQ"
      }
    },
    {
      "cell_type": "code",
      "source": [
        "selected_columns = [2,3,5,7,13]"
      ],
      "metadata": {
        "id": "TmgCoBWWjKBS"
      },
      "execution_count": 21,
      "outputs": []
    },
    {
      "cell_type": "markdown",
      "source": [],
      "metadata": {
        "id": "TF5jPqjajKTD"
      }
    },
    {
      "cell_type": "code",
      "source": [
        "\n",
        "\n",
        "\n",
        "def preprocess_text(text):\n",
        "    text = re.sub(r'[^\\w\\s]', ' ', str(text))\n",
        "    text = re.sub(r'\\s+[a-zA-Z]\\s+', ' ', text)\n",
        "    text = re.sub(r'\\s+', ' ', text).strip()\n",
        "    return text.lower()\n",
        "\n",
        "# tokenization func, from nltk libarray\n",
        "def text_tokenization(text):\n",
        "    return word_tokenize(text)\n",
        "\n",
        "\n",
        "def merge_and_clean(dataframe, columns):\n",
        "    merged_text = dataframe[columns].astype(str).agg(' '.join, axis=1)\n",
        "    return merged_text.apply(preprocess_text)\n",
        "\n",
        "\n",
        "selected_columns = [2,3,5,7,13]\n",
        "\n",
        "\n",
        "\n",
        "train_texts = merge_and_clean(train_df, selected_columns).apply(text_tokenization)\n",
        "test_texts = merge_and_clean(test_df, selected_columns).apply(text_tokenization)\n",
        "val_texts = merge_and_clean(val_df, selected_columns).apply(text_tokenization)\n",
        "\n",
        "\n",
        "total_tokens = [token for text in train_texts for token in text] + \\\n",
        "               [token for text in test_texts for token in text] + \\\n",
        "               [token for text in val_texts for token in text]\n",
        "word_counts = Counter(total_tokens)\n",
        "vocab_length = len(word_counts)\n",
        "\n",
        "# Mapping unique words to tokens\n",
        "word_indices = {word: idx + 1 for idx, word in enumerate(word_counts)}\n",
        "\n",
        "\n",
        "def convert_tokens_to_indices(token_lists):\n",
        "    return [[word_indices.get(token, 0) for token in tokens] for tokens in token_lists],True\n",
        "\n",
        "train_idx,status1 = convert_tokens_to_indices(train_texts)\n",
        "if status1:\n",
        "    word_s1=True\n",
        "test_idx,status2 = convert_tokens_to_indices(test_texts)\n",
        "if status2:\n",
        "    word_s2=True\n",
        "val_idx,status3 = convert_tokens_to_indices(val_texts)\n",
        "if status3:\n",
        "    word_s3=True\n",
        "\n",
        "# padding\n",
        "def sequence_padding(sequences, max_length):\n",
        "    sequence_padded = pad_sequence([torch.tensor(sequence) for sequence in sequences],\n",
        "                                   batch_first=True, padding_value=0)\n",
        "    return True,sequence_padded[:, :max_length]\n",
        "def find_max_sequence_length(sequences):\n",
        "    \"\"\"Find the maximum sequence length in a list of sequences.\"\"\"\n",
        "    try:\n",
        "        max_length = max(len(sequence) for sequence in sequences)\n",
        "        return True, max_length\n",
        "    except Exception as e:\n",
        "        print(f\"Error in find_max_sequence_length: {e}\")\n",
        "        return False, 0\n",
        "\n",
        "max_length = max(len(s) for seq in [train_idx, test_idx, val_idx] for s in seq)\n",
        "\n",
        "\n",
        "train_cond,X_train_padded = sequence_padding(train_idx, max_length)\n",
        "if train_cond!=True:\n",
        "    print(\"Exception\")\n",
        "test_cond,X_test_padded = sequence_padding(test_idx, max_length)\n",
        "if test_cond!=True:\n",
        "    print(\"Exception\")\n",
        "val_cond,X_val_padded = sequence_padding(val_idx, max_length)\n",
        "if val_cond!=True:\n",
        "    print(\"Exception\")\n",
        "\n",
        "# labels to tensors\n",
        "\n",
        "def map_labels_to_tensors(dataframe, column_index, label_mapping):\n",
        "\n",
        "    try:\n",
        "        mapped_labels = dataframe[column_index].map(label_mapping)\n",
        "        return torch.tensor(mapped_labels.values, dtype=torch.float)\n",
        "    except Exception as e:\n",
        "        print(f\"Error during label mapping and tensor conversion: {e}\")\n",
        "        return None\n",
        "\n",
        "\n",
        "y_train = map_labels_to_tensors(train_df, 1, label_mapping)\n",
        "y_test = map_labels_to_tensors(test_df, 1, label_mapping)\n",
        "y_val = map_labels_to_tensors(val_df, 1, label_mapping)\n",
        "\n",
        "\n",
        "if y_train is not None and y_test is not None and y_val is not None:\n",
        "    print(\"Labels successfully mapped to tensors.\")\n",
        "else:\n",
        "    print(\"An error occurred during label mapping.\")\n",
        "\n",
        "\n",
        "assert X_train_padded.size(0) == y_train.size(0), \"Inconsistent data lengths for training set\"\n",
        "\n",
        "\n",
        "batch_size = 32\n",
        "\n",
        "\n",
        "train_dataset = TensorDataset(X_train_padded, y_train)\n",
        "train_loader = DataLoader(train_dataset, batch_size=batch_size, shuffle=True)\n",
        "\n",
        "val_dataset = TensorDataset(X_val_padded, y_val)\n",
        "val_loader = DataLoader(val_dataset, batch_size=batch_size)\n",
        "\n",
        "test_dataset = TensorDataset(X_test_padded, y_test)\n",
        "test_loader = DataLoader(test_dataset, batch_size=batch_size)\n"
      ],
      "metadata": {
        "colab": {
          "base_uri": "https://localhost:8080/"
        },
        "id": "g7VvKmMZSGq9",
        "outputId": "cf7ace3e-b185-4e20-db0e-8650f0aac391"
      },
      "execution_count": 22,
      "outputs": [
        {
          "output_type": "stream",
          "name": "stdout",
          "text": [
            "Labels successfully mapped to tensors.\n"
          ]
        }
      ]
    },
    {
      "cell_type": "code",
      "source": [
        "dropout = 0.5\n",
        "\n",
        "\n",
        "model = CNNBiLSTMModel(vocab_size, embedding_dim, n_filters, filter_sizes, lstm_hidden_dim, output_dim, dropout)\n",
        "model = model.to(device)\n",
        "\n"
      ],
      "metadata": {
        "id": "72lmSWSZSGuc"
      },
      "execution_count": 23,
      "outputs": []
    },
    {
      "cell_type": "code",
      "source": [
        "optimizer = optim.Adam(model.parameters(), lr=1e-3)\n",
        "dropout = 0.5\n",
        "criterion = nn.BCEWithLogitsLoss()"
      ],
      "metadata": {
        "id": "Ch4DdEGij1EJ"
      },
      "execution_count": 24,
      "outputs": []
    },
    {
      "cell_type": "code",
      "source": [],
      "metadata": {
        "id": "v2c1rvEWETdQ"
      },
      "execution_count": 24,
      "outputs": []
    },
    {
      "cell_type": "code",
      "source": [
        "\n",
        "\n",
        "num_epochs = 5\n",
        "train_loss_list, train_acc_list = [], []\n",
        "val_loss_list, val_acc_list = [], []\n",
        "\n",
        "for epoch in range(num_epochs):\n",
        "    train_loss, train_acc = train(model, train_loader, optimizer, criterion)\n",
        "    train_loss_list.append(train_loss)\n",
        "    train_acc_list.append(train_acc)\n",
        "\n",
        "    val_loss, val_acc = evaluate(model, val_loader, criterion)\n",
        "    val_loss_list.append(val_loss)\n",
        "    val_acc_list.append(val_acc)\n",
        "\n",
        "    print(f'Epoch: {epoch+1}, Train Loss: {train_loss:.3f}, Train Acc: {train_acc:.2f}, Val Loss: {val_loss:.3f}, Val Acc: {val_acc:.2f}')\n",
        "\n",
        "\n"
      ],
      "metadata": {
        "id": "HishNwDNiVF-",
        "colab": {
          "base_uri": "https://localhost:8080/"
        },
        "outputId": "eab46133-3df1-489a-f0cc-21bab3ea95e1"
      },
      "execution_count": 25,
      "outputs": [
        {
          "output_type": "stream",
          "name": "stdout",
          "text": [
            "Epoch: 1, Train Loss: 0.681, Train Acc: 0.57, Val Loss: 0.676, Val Acc: 0.57\n",
            "Epoch: 2, Train Loss: 0.662, Train Acc: 0.61, Val Loss: 0.649, Val Acc: 0.63\n",
            "Epoch: 3, Train Loss: 0.638, Train Acc: 0.64, Val Loss: 0.664, Val Acc: 0.59\n",
            "Epoch: 4, Train Loss: 0.617, Train Acc: 0.66, Val Loss: 0.644, Val Acc: 0.61\n",
            "Epoch: 5, Train Loss: 0.579, Train Acc: 0.70, Val Loss: 0.644, Val Acc: 0.62\n"
          ]
        }
      ]
    },
    {
      "cell_type": "code",
      "source": [
        "import matplotlib.pyplot as plt\n",
        "import numpy as np\n",
        "\n",
        "\n",
        "epochs = np.arange(1, len(train_loss_list) + 1)\n",
        "\n",
        "\n",
        "plt.figure(figsize=(12, 4))\n",
        "\n",
        "# Loss plot\n",
        "plt.subplot(1, 2, 1)\n",
        "plt.plot(epochs, train_loss_list, label='Train Loss', marker='o', linestyle='-')\n",
        "plt.plot(epochs, val_loss_list, label='Val Loss', marker='o', linestyle='-')\n",
        "plt.xlabel('Epoch')\n",
        "plt.ylabel('Loss')\n",
        "plt.title('Training and Validation Loss')\n",
        "plt.legend()\n",
        "\n",
        "# Accuracy plot\n",
        "plt.subplot(1, 2, 2)\n",
        "plt.plot(epochs, train_acc_list, label='Train Acc', marker='o', linestyle='-')\n",
        "plt.plot(epochs, val_acc_list, label='Val Acc', marker='o', linestyle='-')\n",
        "plt.xlabel('Epoch')\n",
        "plt.ylabel('Accuracy (%)')\n",
        "plt.title('Training and Validation Accuracy')\n",
        "plt.legend()\n",
        "\n",
        "\n",
        "plt.tight_layout()\n",
        "plt.show()\n"
      ],
      "metadata": {
        "colab": {
          "base_uri": "https://localhost:8080/",
          "height": 354
        },
        "id": "Am8nlHUx9WP1",
        "outputId": "611b3d97-e726-48d0-e871-95897b839835"
      },
      "execution_count": 26,
      "outputs": [
        {
          "output_type": "display_data",
          "data": {
            "text/plain": [
              "<Figure size 1200x400 with 2 Axes>"
            ],
            "image/png": "[encoded data removed]"
          },
          "metadata": {}
        }
      ]
    },
    {
      "cell_type": "code",
      "source": [],
      "metadata": {
        "id": "itPwIYg6ETi9"
      },
      "execution_count": 26,
      "outputs": []
    },
    {
      "cell_type": "code",
      "source": [
        "test_loss, test_acc = evaluate(model, test_loader, criterion)\n",
        "print(f'Test Loss: {test_loss:.3f}, Test Acc: {test_acc*100:.2f}%')\n"
      ],
      "metadata": {
        "id": "bs2CSOhliVIk",
        "colab": {
          "base_uri": "https://localhost:8080/"
        },
        "outputId": "1bad72ee-1e19-43fd-f9a6-aaf0d2293c90"
      },
      "execution_count": 27,
      "outputs": [
        {
          "output_type": "stream",
          "name": "stdout",
          "text": [
            "Test Loss: 0.643, Test Acc: 64.54%\n"
          ]
        }
      ]
    },
    {
      "cell_type": "code",
      "source": [],
      "metadata": {
        "id": "o8HWkR5EETlG"
      },
      "execution_count": 27,
      "outputs": []
    },
    {
      "cell_type": "markdown",
      "source": [
        "# **Web Link Server Callable**"
      ],
      "metadata": {
        "id": "viWr9flCR8qh"
      }
    },
    {
      "cell_type": "code",
      "source": [
        "@anvil.server.callable\n",
        "def predict_fake_best(label,statement,subject,job,party,location):\n",
        "  arguments_list = [label, statement, subject,job, party,location]\n",
        "\n",
        "\n",
        "  arguments_list = pd.DataFrame([arguments_list])\n",
        "\n",
        "  print(arguments_list)\n",
        "\n",
        "  def clean_text(text):\n",
        "      text = re.sub(r'\\W', ' ', str(text))\n",
        "      text = re.sub(r'\\s+[a-zA-Z]\\s+', ' ', text)\n",
        "      text = re.sub(r'\\^[a-zA-Z]\\s+', ' ', text)\n",
        "      text = re.sub(r'\\s+', ' ', text, flags=re.I)\n",
        "      return text\n",
        "\n",
        "\n",
        "  def tokenize(text):\n",
        "      return word_tokenize(text.lower())\n",
        "  def concatenate_and_clean_server(row):\n",
        "      concatenated_text = ' '.join(str(row[col]) for col in range(1,6))\n",
        "      return clean_text(concatenated_text)\n",
        "\n",
        "\n",
        "  def tokens_to_indexes(tokens_list):\n",
        "      return [[word_to_index.get(token, 0) for token in tokens] for tokens in tokens_list]\n",
        "\n",
        "\n",
        "\n",
        "  predict_statement = arguments_list.apply(concatenate_and_clean_server, axis=1).apply(tokenize)\n",
        "\n",
        "  print(predict_statement)\n",
        "\n",
        "\n",
        "\n",
        "  all_tokens = [token for statement in predict_statement for token in statement]\n",
        "  vocab = Counter(all_tokens)\n",
        "  vocab_size = len(vocab)\n",
        "\n",
        "\n",
        "  word_to_index = {word: index + 1 for index, word in enumerate(vocab)}\n",
        "\n",
        "\n",
        "  predict_sequences = tokens_to_indexes(predict_statement)\n",
        "\n",
        "\n",
        "  # Padding\n",
        "  def pad_sequences(sequences, maxlen):\n",
        "      padded_sequences = pad_sequence([torch.tensor(seq) for seq in sequences],\n",
        "                                      batch_first=True, padding_value=0)\n",
        "      print(\"padded:\",padded_sequences[:, :maxlen])\n",
        "      return padded_sequences[:, :maxlen]\n",
        "\n",
        "  max_seq_length = max(max(len(seq) for seq in sequences) for sequences in [predict_sequences])\n",
        "  print(\"max:\",max_seq_length)\n",
        "  X_predict = pad_sequences(predict_sequences, max_seq_length)\n",
        "  print(\"X:\",X_predict.size())\n",
        "\n",
        "\n",
        "  label_mapping = {'false': 0, 'half-true': 1, 'mostly-true': 1, 'true': 1, 'barely-true': 0, 'pants-fire': 0}\n",
        "  y_predict = torch.tensor(arguments_list[0].map(label_mapping).values, dtype=torch.float)\n",
        "\n",
        "\n",
        "  print(y_predict.size())\n",
        "\n",
        "\n",
        "\n",
        "  assert X_predict.size(0) == y_predict.size(0), \"Mismatch in number of samples between X_train and y_train\"\n",
        "\n",
        "\n",
        "  batch_size = 4\n",
        "\n",
        "  pred_data = TensorDataset(X_predict, y_predict)\n",
        "  #pred_data = TensorDataset(X_predict)\n",
        "  pred_loader = DataLoader(pred_data, batch_size=batch_size)\n",
        "\n",
        "\n",
        "  pred_loss, pred_acc = evaluate(model, pred_loader, criterion)\n",
        "  print(\"predicted outcome\",pred_acc)\n",
        "\n",
        "\n",
        "  return pred_acc"
      ],
      "metadata": {
        "id": "EJueLRunZBPU"
      },
      "execution_count": 28,
      "outputs": []
    },
    {
      "cell_type": "code",
      "source": [
        "###########################################################################################################################################################################################3####3"
      ],
      "metadata": {
        "id": "3lwJ6DeKETn0"
      },
      "execution_count": 29,
      "outputs": []
    },
    {
      "cell_type": "code",
      "source": [],
      "metadata": {
        "id": "hSY6zjuCETrI"
      },
      "execution_count": 29,
      "outputs": []
    },
    {
      "cell_type": "code",
      "source": [
        "###########################################################################################################################################################################################3####3"
      ],
      "metadata": {
        "id": "ZVbQXGs3EsgM"
      },
      "execution_count": 30,
      "outputs": []
    },
    {
      "cell_type": "code",
      "source": [],
      "metadata": {
        "id": "_IELw1eoEsjF"
      },
      "execution_count": 30,
      "outputs": []
    },
    {
      "cell_type": "code",
      "source": [
        "###########################################################################################################################################################################################3####3"
      ],
      "metadata": {
        "id": "9NVTSjAyEslu"
      },
      "execution_count": 31,
      "outputs": []
    },
    {
      "cell_type": "code",
      "source": [],
      "metadata": {
        "id": "AfgLXcyOEsoE"
      },
      "execution_count": 31,
      "outputs": []
    },
    {
      "cell_type": "code",
      "source": [
        "###########################################################################################################################################################################################3####3"
      ],
      "metadata": {
        "id": "RxGULacaEsqP"
      },
      "execution_count": 32,
      "outputs": []
    },
    {
      "cell_type": "code",
      "source": [],
      "metadata": {
        "id": "BKqaNa5EEssJ"
      },
      "execution_count": 32,
      "outputs": []
    },
    {
      "cell_type": "code",
      "source": [],
      "metadata": {
        "id": "VI0oaw_jEsvi"
      },
      "execution_count": 32,
      "outputs": []
    },
    {
      "cell_type": "code",
      "source": [],
      "metadata": {
        "id": "qKcy8aE3YzqA"
      },
      "execution_count": 32,
      "outputs": []
    },
    {
      "cell_type": "code",
      "source": [],
      "metadata": {
        "id": "tVsplRHdYzxR"
      },
      "execution_count": 32,
      "outputs": []
    },
    {
      "cell_type": "code",
      "source": [],
      "metadata": {
        "id": "daLDwD3kYzz0"
      },
      "execution_count": 32,
      "outputs": []
    },
    {
      "cell_type": "code",
      "source": [],
      "metadata": {
        "id": "F-JTMygcYz12"
      },
      "execution_count": 32,
      "outputs": []
    },
    {
      "cell_type": "code",
      "source": [],
      "metadata": {
        "id": "VB_CFPvdYz5X"
      },
      "execution_count": 32,
      "outputs": []
    }
  ]
}